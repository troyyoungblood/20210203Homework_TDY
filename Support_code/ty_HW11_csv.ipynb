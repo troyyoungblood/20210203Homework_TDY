{
 "cells": [
  {
   "cell_type": "code",
   "execution_count": 1,
   "metadata": {},
   "outputs": [],
   "source": [
    "# Import Dependencies\n",
    "import pandas as pd"
   ]
  },
  {
   "cell_type": "code",
   "execution_count": 2,
   "metadata": {},
   "outputs": [
    {
     "data": {
      "text/html": [
       "<div>\n",
       "<style scoped>\n",
       "    .dataframe tbody tr th:only-of-type {\n",
       "        vertical-align: middle;\n",
       "    }\n",
       "\n",
       "    .dataframe tbody tr th {\n",
       "        vertical-align: top;\n",
       "    }\n",
       "\n",
       "    .dataframe thead th {\n",
       "        text-align: right;\n",
       "    }\n",
       "</style>\n",
       "<table border=\"1\" class=\"dataframe\">\n",
       "  <thead>\n",
       "    <tr style=\"text-align: right;\">\n",
       "      <th></th>\n",
       "      <th>City</th>\n",
       "      <th>Country</th>\n",
       "      <th>Latitude</th>\n",
       "      <th>Longitude</th>\n",
       "      <th>Max_temp_F</th>\n",
       "      <th>Humidity_Percent</th>\n",
       "      <th>Cloudy_Percent</th>\n",
       "      <th>Wind_Speed_mph</th>\n",
       "      <th>Date</th>\n",
       "    </tr>\n",
       "  </thead>\n",
       "  <tbody>\n",
       "    <tr>\n",
       "      <th>0</th>\n",
       "      <td>Mataura</td>\n",
       "      <td>New Zealand</td>\n",
       "      <td>-46.19</td>\n",
       "      <td>168.86</td>\n",
       "      <td>50.94</td>\n",
       "      <td>70</td>\n",
       "      <td>39</td>\n",
       "      <td>3.29</td>\n",
       "      <td>12/15/2020</td>\n",
       "    </tr>\n",
       "    <tr>\n",
       "      <th>1</th>\n",
       "      <td>Whitehorse</td>\n",
       "      <td>Canada</td>\n",
       "      <td>60.72</td>\n",
       "      <td>-135.05</td>\n",
       "      <td>6.80</td>\n",
       "      <td>84</td>\n",
       "      <td>90</td>\n",
       "      <td>2.24</td>\n",
       "      <td>12/15/2020</td>\n",
       "    </tr>\n",
       "    <tr>\n",
       "      <th>2</th>\n",
       "      <td>Hualmay</td>\n",
       "      <td>Peru</td>\n",
       "      <td>-11.10</td>\n",
       "      <td>-77.61</td>\n",
       "      <td>73.31</td>\n",
       "      <td>67</td>\n",
       "      <td>43</td>\n",
       "      <td>10.40</td>\n",
       "      <td>12/15/2020</td>\n",
       "    </tr>\n",
       "    <tr>\n",
       "      <th>3</th>\n",
       "      <td>Birjand</td>\n",
       "      <td>Iran</td>\n",
       "      <td>32.87</td>\n",
       "      <td>59.22</td>\n",
       "      <td>30.20</td>\n",
       "      <td>63</td>\n",
       "      <td>0</td>\n",
       "      <td>6.93</td>\n",
       "      <td>12/15/2020</td>\n",
       "    </tr>\n",
       "    <tr>\n",
       "      <th>4</th>\n",
       "      <td>Albany</td>\n",
       "      <td>United States</td>\n",
       "      <td>42.60</td>\n",
       "      <td>-73.97</td>\n",
       "      <td>33.01</td>\n",
       "      <td>36</td>\n",
       "      <td>9</td>\n",
       "      <td>1.99</td>\n",
       "      <td>12/15/2020</td>\n",
       "    </tr>\n",
       "  </tbody>\n",
       "</table>\n",
       "</div>"
      ],
      "text/plain": [
       "         City        Country  Latitude  Longitude  Max_temp_F  \\\n",
       "0     Mataura    New Zealand    -46.19     168.86       50.94   \n",
       "1  Whitehorse         Canada     60.72    -135.05        6.80   \n",
       "2     Hualmay           Peru    -11.10     -77.61       73.31   \n",
       "3     Birjand           Iran     32.87      59.22       30.20   \n",
       "4      Albany  United States     42.60     -73.97       33.01   \n",
       "\n",
       "   Humidity_Percent  Cloudy_Percent  Wind_Speed_mph        Date  \n",
       "0                70              39            3.29  12/15/2020  \n",
       "1                84              90            2.24  12/15/2020  \n",
       "2                67              43           10.40  12/15/2020  \n",
       "3                63               0            6.93  12/15/2020  \n",
       "4                36               9            1.99  12/15/2020  "
      ]
     },
     "execution_count": 2,
     "metadata": {},
     "output_type": "execute_result"
    }
   ],
   "source": [
    "# Create a path to the csv and read it into a Pandas DataFrame\n",
    "csv_path = \"../Resources/cities.csv\"\n",
    "cities_df = pd.read_csv(csv_path)\n",
    "\n",
    "cities_df.head()"
   ]
  },
  {
   "cell_type": "code",
   "execution_count": 3,
   "metadata": {},
   "outputs": [],
   "source": [
    "# Converting df to html and saving html for use later\n",
    "\n",
    "cities_df.to_html('../Support_code/cities_df_html.html', index=False)"
   ]
  },
  {
   "cell_type": "code",
   "execution_count": null,
   "metadata": {},
   "outputs": [],
   "source": []
  }
 ],
 "metadata": {
  "kernelspec": {
   "display_name": "Python 3",
   "language": "python",
   "name": "python3"
  },
  "language_info": {
   "codemirror_mode": {
    "name": "ipython",
    "version": 3
   },
   "file_extension": ".py",
   "mimetype": "text/x-python",
   "name": "python",
   "nbconvert_exporter": "python",
   "pygments_lexer": "ipython3",
   "version": "3.8.3"
  }
 },
 "nbformat": 4,
 "nbformat_minor": 4
}
